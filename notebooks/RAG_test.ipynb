{
 "cells": [
  {
   "cell_type": "code",
   "execution_count": 12,
   "id": "0424cb64-4d4b-4e37-9b8d-4a7ba4e665ee",
   "metadata": {},
   "outputs": [],
   "source": [
    "import pandas as pd"
   ]
  },
  {
   "cell_type": "code",
   "execution_count": 13,
   "id": "e7bff630-f826-40a5-9665-9c682a0e3909",
   "metadata": {},
   "outputs": [],
   "source": [
    "df =pd.read_csv('../data/data.csv',usecols=lambda x: x != \"id\")"
   ]
  },
  {
   "cell_type": "code",
   "execution_count": 14,
   "id": "f252a82d-a0ea-4e3d-873b-26ef61df3ead",
   "metadata": {},
   "outputs": [
    {
     "name": "stdout",
     "output_type": "stream",
     "text": [
      "--2025-08-05 21:15:52--  https://github.com/alexeygrigorev/minsearch/blob/main/minsearch/minsearch.py\n",
      "Resolving github.com (github.com)... 20.26.156.215\n",
      "Connecting to github.com (github.com)|20.26.156.215|:443... connected.\n",
      "HTTP request sent, awaiting response... 200 OK\n",
      "Length: unspecified [text/html]\n",
      "Saving to: ‘minsearch.py’\n",
      "\n",
      "minsearch.py            [ <=>                ] 190.14K  --.-KB/s    in 0.002s  \n",
      "\n",
      "2025-08-05 21:15:52 (75.8 MB/s) - ‘minsearch.py’ saved [194699]\n",
      "\n"
     ]
    }
   ],
   "source": [
    "!wget https://github.com/alexeygrigorev/minsearch/blob/main/minsearch/minsearch.py"
   ]
  },
  {
   "cell_type": "code",
   "execution_count": 15,
   "id": "400aa47d-2291-4d48-bbf5-13a1ed67c2d5",
   "metadata": {},
   "outputs": [
    {
     "data": {
      "text/plain": [
       "Index(['exercise_name', 'type_of_activity', 'type_of_equipment', 'body_part',\n",
       "       'type', 'muscle_groups_activated', 'instructions'],\n",
       "      dtype='object')"
      ]
     },
     "execution_count": 15,
     "metadata": {},
     "output_type": "execute_result"
    }
   ],
   "source": [
    "df.columns"
   ]
  },
  {
   "cell_type": "code",
   "execution_count": 16,
   "id": "962f47a8-5885-4dfb-8f78-d627531bb9af",
   "metadata": {},
   "outputs": [
    {
     "name": "stdout",
     "output_type": "stream",
     "text": [
      "more: cannot open minserach.py: No such file or directory\n"
     ]
    }
   ],
   "source": [
    "!more minserach.py"
   ]
  },
  {
   "cell_type": "code",
   "execution_count": 17,
   "id": "1f4e0561-56ab-488b-9d8d-080c68a8d885",
   "metadata": {},
   "outputs": [
    {
     "name": "stdout",
     "output_type": "stream",
     "text": [
      "RAG_test.ipynb  minsearch.py\n"
     ]
    }
   ],
   "source": [
    "ls"
   ]
  },
  {
   "cell_type": "code",
   "execution_count": null,
   "id": "b3623c9c-2447-4a0f-b502-c30a2018ec68",
   "metadata": {},
   "outputs": [],
   "source": []
  }
 ],
 "metadata": {
  "kernelspec": {
   "display_name": "Python 3 (ipykernel)",
   "language": "python",
   "name": "python3"
  },
  "language_info": {
   "codemirror_mode": {
    "name": "ipython",
    "version": 3
   },
   "file_extension": ".py",
   "mimetype": "text/x-python",
   "name": "python",
   "nbconvert_exporter": "python",
   "pygments_lexer": "ipython3",
   "version": "3.13.5"
  }
 },
 "nbformat": 4,
 "nbformat_minor": 5
}
